{
 "cells": [
  {
   "cell_type": "code",
   "execution_count": 8,
   "id": "5085e0f7",
   "metadata": {},
   "outputs": [],
   "source": [
    "import cirq  # Google boii"
   ]
  },
  {
   "cell_type": "code",
   "execution_count": 2,
   "id": "6b99438c",
   "metadata": {},
   "outputs": [],
   "source": [
    "q0=cirq.GridQubit(0, 0)\n",
    "q1=cirq.GridQubit(0, 1)"
   ]
  },
  {
   "cell_type": "code",
   "execution_count": 4,
   "id": "c2b0625e",
   "metadata": {},
   "outputs": [],
   "source": [
    "m0=cirq.X(q0)\n",
    "m1=cirq.CNOT(q0, q1)\n",
    "m2=cirq.measure(q0, q1)"
   ]
  },
  {
   "cell_type": "code",
   "execution_count": 5,
   "id": "16883eb0",
   "metadata": {},
   "outputs": [
    {
     "name": "stdout",
     "output_type": "stream",
     "text": [
      "(0, 0): ───X───@───M───\n",
      "               │   │\n",
      "(0, 1): ───────X───M───\n"
     ]
    }
   ],
   "source": [
    "cir=cirq.Circuit()\n",
    "cir.append(m0)\n",
    "cir.append(m1)\n",
    "cir.append(m2)\n",
    "print(cir)"
   ]
  },
  {
   "cell_type": "code",
   "execution_count": 7,
   "id": "7b684be7",
   "metadata": {},
   "outputs": [
    {
     "name": "stdout",
     "output_type": "stream",
     "text": [
      "q(0, 0),q(0, 1)=1111111111, 1111111111\n"
     ]
    }
   ],
   "source": [
    "sim=cirq.Simulator()\n",
    "res=sim.run(cir, repetitions=10)\n",
    "print(res)"
   ]
  },
  {
   "cell_type": "code",
   "execution_count": 19,
   "id": "545941e2",
   "metadata": {},
   "outputs": [
    {
     "data": {
      "text/html": [
       "<pre style=\"overflow: auto; white-space: pre;\">(0, 0): ───X───@───────@───\n",
       "               │       │\n",
       "(0, 1): ───X───┼───@───@───\n",
       "               │   │   │\n",
       "(0, 3): ───────X───X───┼───\n",
       "                       │\n",
       "(0, 4): ───────────────X───</pre>"
      ],
      "text/plain": [
       "(0, 0): ───X───@───────@───\n",
       "               │       │\n",
       "(0, 1): ───X───┼───@───@───\n",
       "               │   │   │\n",
       "(0, 3): ───────X───X───┼───\n",
       "                       │\n",
       "(0, 4): ───────────────X───"
      ]
     },
     "execution_count": 19,
     "metadata": {},
     "output_type": "execute_result"
    }
   ],
   "source": [
    "# Half Adder\n",
    "q0=cirq.GridQubit(0, 0)\n",
    "q1=cirq.GridQubit(0, 1)\n",
    "q2=cirq.GridQubit(0, 3)\n",
    "q3=cirq.GridQubit(0, 4)\n",
    "\n",
    "m0=cirq.X(q0)\n",
    "m1=cirq.X(q1)\n",
    "m2=cirq.CNOT(q0, q2)\n",
    "m3=cirq.CNOT(q1, q2)\n",
    "m4=cirq.CCNOT(q0, q1, q3)\n",
    "\n",
    "cir=cirq.Circuit()\n",
    "cir.append(m0)\n",
    "cir.append(m1)\n",
    "cir.append(m2)\n",
    "cir.append(m3)\n",
    "cir.append(m4)\n",
    "cir"
   ]
  }
 ],
 "metadata": {
  "kernelspec": {
   "display_name": "Python 3 (ipykernel)",
   "language": "python",
   "name": "python3"
  },
  "language_info": {
   "codemirror_mode": {
    "name": "ipython",
    "version": 3
   },
   "file_extension": ".py",
   "mimetype": "text/x-python",
   "name": "python",
   "nbconvert_exporter": "python",
   "pygments_lexer": "ipython3",
   "version": "3.10.6"
  }
 },
 "nbformat": 4,
 "nbformat_minor": 5
}
