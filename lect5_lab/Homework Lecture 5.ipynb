{
 "cells": [
  {
   "cell_type": "code",
   "execution_count": 2,
   "id": "cde8c530",
   "metadata": {},
   "outputs": [],
   "source": [
    "# https://quantumai.google/cirq/build/gates\n",
    "import cirq # Google Cirq 63070503426 Panithi Suwanno"
   ]
  },
  {
   "cell_type": "markdown",
   "id": "01cfac8b",
   "metadata": {},
   "source": [
    "# Lab1 Intro to Cirq Programming\n",
    "Build a 3 qubits of Quantum circuit that target of CCNOT can be only 1 with 16 trials.<br>\n",
    "Hint:\n",
    "- Construct quantum circuit with following quantum gate: X, CCONT"
   ]
  },
  {
   "cell_type": "code",
   "execution_count": 3,
   "id": "e6ed7a03",
   "metadata": {},
   "outputs": [
    {
     "data": {
      "text/html": [
       "<pre style=\"overflow: auto; white-space: pre;\">(0, 0): ───X───@───M───\n",
       "               │   │\n",
       "(0, 1): ───X───@───M───\n",
       "               │   │\n",
       "(0, 2): ───────X───M───</pre>"
      ],
      "text/plain": [
       "(0, 0): ───X───@───M───\n",
       "               │   │\n",
       "(0, 1): ───X───@───M───\n",
       "               │   │\n",
       "(0, 2): ───────X───M───"
      ]
     },
     "execution_count": 3,
     "metadata": {},
     "output_type": "execute_result"
    }
   ],
   "source": [
    "# CCONT\n",
    "q0=cirq.GridQubit(0, 0)\n",
    "q1=cirq.GridQubit(0, 1)\n",
    "q2=cirq.GridQubit(0, 2)\n",
    "\n",
    "m0=cirq.CCNOT(q0, q1, q2)\n",
    "m1=cirq.measure(q0, q1, q2)\n",
    "m2=cirq.X(q0)\n",
    "m3=cirq.X(q1)\n",
    "\n",
    "cir=cirq.Circuit()\n",
    "cir.append(m2)\n",
    "cir.append(m3)\n",
    "cir.append(m0)\n",
    "cir.append(m1)\n",
    "cir"
   ]
  },
  {
   "cell_type": "code",
   "execution_count": 4,
   "id": "a4c2c676",
   "metadata": {},
   "outputs": [
    {
     "name": "stdout",
     "output_type": "stream",
     "text": [
      "q(0, 0),q(0, 1),q(0, 2)=1111111111111111, 1111111111111111, 1111111111111111\n"
     ]
    }
   ],
   "source": [
    "simulator=cirq.Simulator()\n",
    "result=simulator.run(cir, repetitions=16)\n",
    "print(result)"
   ]
  },
  {
   "cell_type": "markdown",
   "id": "361da116",
   "metadata": {},
   "source": [
    "# Lab2 Full-Adder Quantum Circuit"
   ]
  },
  {
   "cell_type": "code",
   "execution_count": 5,
   "id": "ca6a65d8",
   "metadata": {},
   "outputs": [
    {
     "data": {
      "text/html": [
       "<pre style=\"overflow: auto; white-space: pre;\">(0, 0): ───X───@───────@───M───\n",
       "               │       │   │\n",
       "(0, 1): ───X───┼───@───@───M───\n",
       "               │   │   │   │\n",
       "(0, 3): ───────X───X───┼───M───\n",
       "                       │   │\n",
       "(0, 4): ───────────────X───M───</pre>"
      ],
      "text/plain": [
       "(0, 0): ───X───@───────@───M───\n",
       "               │       │   │\n",
       "(0, 1): ───X───┼───@───@───M───\n",
       "               │   │   │   │\n",
       "(0, 3): ───────X───X───┼───M───\n",
       "                       │   │\n",
       "(0, 4): ───────────────X───M───"
      ]
     },
     "execution_count": 5,
     "metadata": {},
     "output_type": "execute_result"
    }
   ],
   "source": [
    "# Half Adder\n",
    "q0=cirq.GridQubit(0, 0)\n",
    "q1=cirq.GridQubit(0, 1)\n",
    "q2=cirq.GridQubit(0, 3)\n",
    "q3=cirq.GridQubit(0, 4)\n",
    "\n",
    "m0=cirq.X(q0)\n",
    "m1=cirq.X(q1)\n",
    "m2=cirq.CNOT(q0, q2)\n",
    "m3=cirq.CNOT(q1, q2)\n",
    "m4=cirq.CCNOT(q0, q1, q3)\n",
    "m5=cirq.measure(q0, q1, q2, q3)\n",
    "\n",
    "cir=cirq.Circuit()\n",
    "cir.append(m0)\n",
    "cir.append(m1)\n",
    "cir.append(m2)\n",
    "cir.append(m3)\n",
    "cir.append(m4)\n",
    "cir.append(m5)\n",
    "cir"
   ]
  },
  {
   "cell_type": "code",
   "execution_count": 6,
   "id": "5a27ed92",
   "metadata": {},
   "outputs": [
    {
     "data": {
      "text/html": [
       "<pre style=\"overflow: auto; white-space: pre;\">                       ┌──┐\n",
       "(0, 0): ───X───@─────────@────@───────M───\n",
       "               │         │    │       │\n",
       "(0, 1): ───────┼───@─────@────┼───@───M───\n",
       "               │   │     │    │   │   │\n",
       "(0, 2): ───────┼───┼────@┼────@───@───M───\n",
       "               │   │    ││    │   │   │\n",
       "(0, 3): ───────X───X────X┼────┼───┼───M───\n",
       "                         │    │   │   │\n",
       "(0, 4): ─────────────────X────X───X───M───\n",
       "                       └──┘</pre>"
      ],
      "text/plain": [
       "                       ┌──┐\n",
       "(0, 0): ───X───@─────────@────@───────M───\n",
       "               │         │    │       │\n",
       "(0, 1): ───────┼───@─────@────┼───@───M───\n",
       "               │   │     │    │   │   │\n",
       "(0, 2): ───────┼───┼────@┼────@───@───M───\n",
       "               │   │    ││    │   │   │\n",
       "(0, 3): ───────X───X────X┼────┼───┼───M───\n",
       "                         │    │   │   │\n",
       "(0, 4): ─────────────────X────X───X───M───\n",
       "                       └──┘"
      ]
     },
     "execution_count": 6,
     "metadata": {},
     "output_type": "execute_result"
    }
   ],
   "source": [
    "# Full Adder\n",
    "q0=cirq.GridQubit(0, 0)\n",
    "q1=cirq.GridQubit(0, 1)\n",
    "q2=cirq.GridQubit(0, 2)\n",
    "q3=cirq.GridQubit(0, 3)\n",
    "q4=cirq.GridQubit(0, 4)\n",
    "\n",
    "m0=cirq.X(q0)\n",
    "m1=cirq.CNOT(q0, q3)\n",
    "m2=cirq.CNOT(q1, q3)\n",
    "m3=cirq.CNOT(q2, q3)\n",
    "m4=cirq.CCNOT(q0, q1, q4)\n",
    "m5=cirq.CCNOT(q0, q2, q4)\n",
    "m6=cirq.CCNOT(q1, q2, q4)\n",
    "m7=cirq.measure(q0, q1, q2, q3, q4)\n",
    "\n",
    "cir=cirq.Circuit()\n",
    "cir.append(m0)\n",
    "cir.append(m1)\n",
    "cir.append(m2)\n",
    "cir.append(m3)\n",
    "cir.append(m4)\n",
    "cir.append(m5)\n",
    "cir.append(m6)\n",
    "cir.append(m7)\n",
    "cir"
   ]
  },
  {
   "cell_type": "code",
   "execution_count": 7,
   "id": "7238f8f9",
   "metadata": {},
   "outputs": [
    {
     "name": "stdout",
     "output_type": "stream",
     "text": [
      "q(0, 0),q(0, 1),q(0, 2),q(0, 3),q(0, 4)=11111, 00000, 00000, 11111, 00000\n"
     ]
    }
   ],
   "source": [
    "simulator=cirq.Simulator()\n",
    "result=simulator.run(cir, repetitions=5)\n",
    "print(result)"
   ]
  },
  {
   "cell_type": "markdown",
   "id": "bb3b2495",
   "metadata": {},
   "source": [
    "# Homework 2 \n",
    "Build the circuit in Cirq generate all possible Bell states\n",
    "- φ+ φ- \n",
    "- Φ+ Φ-"
   ]
  },
  {
   "cell_type": "code",
   "execution_count": 8,
   "id": "31788bc2",
   "metadata": {},
   "outputs": [
    {
     "data": {
      "text/html": [
       "<pre style=\"overflow: auto; white-space: pre;\">(0, 0): ───H───@───\n",
       "               │\n",
       "(0, 1): ───────X───</pre>"
      ],
      "text/plain": [
       "(0, 0): ───H───@───\n",
       "               │\n",
       "(0, 1): ───────X───"
      ]
     },
     "execution_count": 8,
     "metadata": {},
     "output_type": "execute_result"
    }
   ],
   "source": [
    "# φ+\n",
    "q0=cirq.GridQubit(0, 0)\n",
    "q1=cirq.GridQubit(0, 1)\n",
    "\n",
    "m0=cirq.H(q0)\n",
    "m1=cirq.CNOT(q0 ,q1)\n",
    "#m2=cirq.measure(q0, q1)\n",
    "\n",
    "cir=cirq.Circuit()\n",
    "cir.append(m0)\n",
    "cir.append(m1)\n",
    "#cir.append(m2)\n",
    "cir"
   ]
  },
  {
   "cell_type": "code",
   "execution_count": 20,
   "id": "76449069",
   "metadata": {},
   "outputs": [
    {
     "name": "stdout",
     "output_type": "stream",
     "text": [
      "measurements: (no measurements)\n",
      "\n",
      "qubits: (cirq.GridQubit(0, 0), cirq.GridQubit(0, 1))\n",
      "output vector: 0.707|01⟩ - 0.707|10⟩\n",
      "\n",
      "phase:\n",
      "output vector: |⟩\n",
      "[ 0.        +0.j  0.70710677+0.j -0.70710677+0.j -0.        +0.j]\n"
     ]
    }
   ],
   "source": [
    "simulator=cirq.Simulator()\n",
    "#result=simulator.run(cir, repetitions=5)\n",
    "#print(result)\n",
    "\n",
    "result=simulator.simulate(cir)\n",
    "print(result)\n",
    "print(result.final_state_vector)"
   ]
  },
  {
   "cell_type": "code",
   "execution_count": 10,
   "id": "4d116bf8",
   "metadata": {},
   "outputs": [
    {
     "data": {
      "text/html": [
       "<pre style=\"overflow: auto; white-space: pre;\">(0, 0): ───X───H───@───\n",
       "                   │\n",
       "(0, 1): ───────────X───</pre>"
      ],
      "text/plain": [
       "(0, 0): ───X───H───@───\n",
       "                   │\n",
       "(0, 1): ───────────X───"
      ]
     },
     "execution_count": 10,
     "metadata": {},
     "output_type": "execute_result"
    }
   ],
   "source": [
    "# φ-\n",
    "q0=cirq.GridQubit(0, 0)\n",
    "q1=cirq.GridQubit(0, 1)\n",
    "\n",
    "m0=cirq.X(q0)\n",
    "m1=cirq.H(q0)\n",
    "m2=cirq.CNOT(q0 ,q1)\n",
    "#m3=cirq.measure(q0, q1)\n",
    "\n",
    "cir=cirq.Circuit()\n",
    "cir.append(m0)\n",
    "cir.append(m1)\n",
    "cir.append(m2)\n",
    "#cir.append(m3)\n",
    "cir"
   ]
  },
  {
   "cell_type": "code",
   "execution_count": 19,
   "id": "83838edc",
   "metadata": {},
   "outputs": [
    {
     "name": "stdout",
     "output_type": "stream",
     "text": [
      "measurements: (no measurements)\n",
      "\n",
      "qubits: (cirq.GridQubit(0, 0), cirq.GridQubit(0, 1))\n",
      "output vector: 0.707|01⟩ - 0.707|10⟩\n",
      "\n",
      "phase:\n",
      "output vector: |⟩\n",
      "[ 0.        +0.j  0.70710677+0.j -0.70710677+0.j -0.        +0.j]\n"
     ]
    }
   ],
   "source": [
    "simulator=cirq.Simulator()\n",
    "#result=simulator.run(cir, repetitions=5)\n",
    "#print(result)\n",
    "\n",
    "result=simulator.simulate(cir)\n",
    "print(result)\n",
    "print(result.final_state_vector)"
   ]
  },
  {
   "cell_type": "code",
   "execution_count": 12,
   "id": "d5a2bca8",
   "metadata": {},
   "outputs": [
    {
     "data": {
      "text/html": [
       "<pre style=\"overflow: auto; white-space: pre;\">(0, 0): ───H───@───\n",
       "               │\n",
       "(0, 1): ───X───X───</pre>"
      ],
      "text/plain": [
       "(0, 0): ───H───@───\n",
       "               │\n",
       "(0, 1): ───X───X───"
      ]
     },
     "execution_count": 12,
     "metadata": {},
     "output_type": "execute_result"
    }
   ],
   "source": [
    "# Φ+\n",
    "q0=cirq.GridQubit(0, 0)\n",
    "q1=cirq.GridQubit(0, 1)\n",
    "\n",
    "m0=cirq.H(q0)\n",
    "m1=cirq.X(q1)\n",
    "m2=cirq.CNOT(q0 ,q1)\n",
    "#m3=cirq.measure(q0, q1)\n",
    "\n",
    "cir=cirq.Circuit()\n",
    "cir.append(m0)\n",
    "cir.append(m1)\n",
    "cir.append(m2)\n",
    "#cir.append(m3)\n",
    "cir"
   ]
  },
  {
   "cell_type": "code",
   "execution_count": 16,
   "id": "152874c7",
   "metadata": {},
   "outputs": [
    {
     "name": "stdout",
     "output_type": "stream",
     "text": [
      "measurements: (no measurements)\n",
      "\n",
      "qubits: (cirq.GridQubit(0, 0), cirq.GridQubit(0, 1))\n",
      "output vector: 0.707|01⟩ - 0.707|10⟩\n",
      "\n",
      "phase:\n",
      "output vector: |⟩\n",
      "[ 0.        +0.j  0.70710677+0.j -0.70710677+0.j -0.        +0.j]\n"
     ]
    }
   ],
   "source": [
    "simulator=cirq.Simulator()\n",
    "#result=simulator.run(cir, repetitions=5)\n",
    "#print(result)\n",
    "\n",
    "result=simulator.simulate(cir)\n",
    "print(result)\n",
    "print(result.final_state_vector)"
   ]
  },
  {
   "cell_type": "code",
   "execution_count": 14,
   "id": "975126b2",
   "metadata": {},
   "outputs": [
    {
     "data": {
      "text/html": [
       "<pre style=\"overflow: auto; white-space: pre;\">(0, 0): ───X───H───@───\n",
       "                   │\n",
       "(0, 1): ───X───────X───</pre>"
      ],
      "text/plain": [
       "(0, 0): ───X───H───@───\n",
       "                   │\n",
       "(0, 1): ───X───────X───"
      ]
     },
     "execution_count": 14,
     "metadata": {},
     "output_type": "execute_result"
    }
   ],
   "source": [
    "# Φ-\n",
    "q0=cirq.GridQubit(0, 0)\n",
    "q1=cirq.GridQubit(0, 1)\n",
    "\n",
    "m0=cirq.X(q0)\n",
    "m1=cirq.X(q1)\n",
    "m2=cirq.H(q0)\n",
    "m3=cirq.CNOT(q0 ,q1)\n",
    "#m4=cirq.measure(q0, q1)\n",
    "\n",
    "cir=cirq.Circuit()\n",
    "cir.append(m0)\n",
    "cir.append(m1)\n",
    "cir.append(m2)\n",
    "cir.append(m3)\n",
    "#cir.append(m4)\n",
    "cir"
   ]
  },
  {
   "cell_type": "code",
   "execution_count": 18,
   "id": "a5cd92ac",
   "metadata": {},
   "outputs": [
    {
     "name": "stdout",
     "output_type": "stream",
     "text": [
      "measurements: (no measurements)\n",
      "\n",
      "qubits: (cirq.GridQubit(0, 0), cirq.GridQubit(0, 1))\n",
      "output vector: 0.707|01⟩ - 0.707|10⟩\n",
      "\n",
      "phase:\n",
      "output vector: |⟩\n",
      "[ 0.        +0.j  0.70710677+0.j -0.70710677+0.j -0.        +0.j]\n"
     ]
    }
   ],
   "source": [
    "simulator=cirq.Simulator()\n",
    "#result=simulator.run(cir, repetitions=5)\n",
    "#print(result)\n",
    "\n",
    "result=simulator.simulate(cir)\n",
    "print(result)\n",
    "print(result.final_state_vector)"
   ]
  }
 ],
 "metadata": {
  "kernelspec": {
   "display_name": "Python 3 (ipykernel)",
   "language": "python",
   "name": "python3"
  },
  "language_info": {
   "codemirror_mode": {
    "name": "ipython",
    "version": 3
   },
   "file_extension": ".py",
   "mimetype": "text/x-python",
   "name": "python",
   "nbconvert_exporter": "python",
   "pygments_lexer": "ipython3",
   "version": "3.10.6"
  }
 },
 "nbformat": 4,
 "nbformat_minor": 5
}
