{
 "cells": [
  {
   "cell_type": "markdown",
   "id": "759e9d74",
   "metadata": {},
   "source": [
    "**Homework 1**"
   ]
  },
  {
   "cell_type": "markdown",
   "id": "7379d476",
   "metadata": {},
   "source": [
    "Study more on Quantum Gates and build a quantum circuits with Forest<br>\n",
    "\"The output of X gate is similar to the output of Hadamard-Z-Hadamard gates.\"<br>\n",
    "Build circuits to prove above sentence and discuss why both operatinos show the same result."
   ]
  },
  {
   "cell_type": "code",
   "execution_count": 2,
   "id": "0348764c",
   "metadata": {},
   "outputs": [],
   "source": [
    "from pyquil import Program\n",
    "from pyquil.gates import *\n",
    "from pyquil.compatibility.v2.api import get_qc "
   ]
  },
  {
   "cell_type": "code",
   "execution_count": 3,
   "id": "fe5699b7",
   "metadata": {},
   "outputs": [
    {
     "data": {
      "text/plain": [
       "{0: array([1, 1, 1, 1, 1, 1, 1, 1, 1, 1, 1, 1, 1, 1, 1, 1, 1, 1, 1, 1]),\n",
       " 1: array([1, 1, 1, 1, 1, 1, 1, 1, 1, 1, 1, 1, 1, 1, 1, 1, 1, 1, 1, 1])}"
      ]
     },
     "execution_count": 3,
     "metadata": {},
     "output_type": "execute_result"
    }
   ],
   "source": [
    "qc=get_qc('2q-qvm')\n",
    "#bitstrings=qc.run_and_measure(Program(X(0), H(1), Z(1)), trials=20)\n",
    "bitstrings=qc.run_and_measure(Program(X(0), H(1), Z(1), H(1)), trials=20)\n",
    "bitstrings"
   ]
  },
  {
   "cell_type": "code",
   "execution_count": 23,
   "id": "75c44ba5",
   "metadata": {},
   "outputs": [
    {
     "name": "stdout",
     "output_type": "stream",
     "text": [
      "apply X then Z gate = [1 1 1 1 1 1 1 1 1 1 1 1 1 1 1 1 1 1 1 1]\n"
     ]
    }
   ],
   "source": [
    "res=qc.run_and_measure(Program(X(2), Z(2)), trials=20)\n",
    "print('apply X then Z gate = ' + str(res[2]))"
   ]
  },
  {
   "cell_type": "code",
   "execution_count": 25,
   "id": "d20af27b",
   "metadata": {},
   "outputs": [
    {
     "name": "stdout",
     "output_type": "stream",
     "text": [
      "apply Z then X gate = [1 1 1 1 1 1 1 1 1 1 1 1 1 1 1 1 1 1 1 1]\n"
     ]
    }
   ],
   "source": [
    "res=qc.run_and_measure(Program(Z(3), X(3)), trials=20)\n",
    "print('apply Z then X gate = ' + str(res[3]))"
   ]
  }
 ],
 "metadata": {
  "kernelspec": {
   "display_name": "Python 3 (ipykernel)",
   "language": "python",
   "name": "python3"
  },
  "language_info": {
   "codemirror_mode": {
    "name": "ipython",
    "version": 3
   },
   "file_extension": ".py",
   "mimetype": "text/x-python",
   "name": "python",
   "nbconvert_exporter": "python",
   "pygments_lexer": "ipython3",
   "version": "3.10.6"
  }
 },
 "nbformat": 4,
 "nbformat_minor": 5
}
