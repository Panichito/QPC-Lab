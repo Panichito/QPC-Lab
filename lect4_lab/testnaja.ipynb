{
 "cells": [
  {
   "cell_type": "code",
   "execution_count": 10,
   "id": "8fa32bf8",
   "metadata": {},
   "outputs": [],
   "source": [
    "from pyquil import Program\n",
    "from pyquil.gates import *\n",
    "from pyquil.compatibility.v2.api import get_qc "
   ]
  },
  {
   "cell_type": "code",
   "execution_count": 20,
   "id": "92eb1f64",
   "metadata": {},
   "outputs": [
    {
     "name": "stdout",
     "output_type": "stream",
     "text": [
      "DECLARE ro BIT[4]\n",
      "X 0\n",
      "H 1\n",
      "Z 1\n",
      "H 1\n",
      "MEASURE 0 ro[0]\n",
      "MEASURE 1 ro[1]\n",
      "MEASURE 1 ro[2]\n",
      "MEASURE 1 ro[3]\n",
      "\n"
     ]
    }
   ],
   "source": [
    "p=Program()\n",
    "ro=p.declare('ro', 'BIT', 4)  # declare memory and write measurement readout data into it\n",
    "p+=X(0)\n",
    "p+=H(1)\n",
    "p+=Z(1)\n",
    "p+=H(1)\n",
    "p+=MEASURE(0, ro[0])\n",
    "p+=MEASURE(1, ro[1])\n",
    "p+=MEASURE(1, ro[2])\n",
    "p+=MEASURE(1, ro[3])\n",
    "print(p)"
   ]
  },
  {
   "cell_type": "code",
   "execution_count": null,
   "id": "8c9e8b0c",
   "metadata": {},
   "outputs": [],
   "source": [
    "qc=get_qc('4q-qvm')\n",
    "qubits=qc.qubits()\n",
    "#bitstrings=qc.run_and_measure(p, trials=10)\n",
    "bitstrings=qc.run(p)\n",
    "for i, q in enumerate(qubits):\n",
    "    p+=MEASURE(q, ro[i])\n"
   ]
  }
 ],
 "metadata": {
  "kernelspec": {
   "display_name": "Python 3 (ipykernel)",
   "language": "python",
   "name": "python3"
  },
  "language_info": {
   "codemirror_mode": {
    "name": "ipython",
    "version": 3
   },
   "file_extension": ".py",
   "mimetype": "text/x-python",
   "name": "python",
   "nbconvert_exporter": "python",
   "pygments_lexer": "ipython3",
   "version": "3.10.6"
  }
 },
 "nbformat": 4,
 "nbformat_minor": 5
}
