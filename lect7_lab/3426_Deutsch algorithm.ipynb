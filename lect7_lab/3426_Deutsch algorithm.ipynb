{
 "cells": [
  {
   "cell_type": "code",
   "execution_count": 1,
   "metadata": {},
   "outputs": [],
   "source": [
    "#initialization\n",
    "import matplotlib.pyplot as plt\n",
    "%matplotlib inline\n",
    "import numpy as np\n",
    "\n",
    "# importing Qiskit\n",
    "from qiskit import IBMQ, BasicAer\n",
    "from qiskit.providers.ibmq import least_busy\n",
    "from qiskit import QuantumCircuit, ClassicalRegister, QuantumRegister, execute\n",
    "from qiskit.quantum_info.operators import Operator\n",
    "\n",
    "# import basic plot tools\n",
    "from qiskit.tools.visualization import plot_histogram"
   ]
  },
  {
   "cell_type": "markdown",
   "metadata": {},
   "source": [
    "## Uf"
   ]
  },
  {
   "cell_type": "code",
   "execution_count": 8,
   "metadata": {},
   "outputs": [
    {
     "data": {
      "image/png": "[encoded data removed]",
      "text/plain": [
       "<Figure size 594.304x204.68 with 1 Axes>"
      ]
     },
     "execution_count": 8,
     "metadata": {},
     "output_type": "execute_result"
    }
   ],
   "source": [
    "# Creating registers\n",
    "qr = QuantumRegister(2)\n",
    "# classical registers for recording the measurement on qr\n",
    "cr = ClassicalRegister(2)\n",
    "\n",
    "deuCircuit = QuantumCircuit(qr, cr)\n",
    "barriers = True\n",
    "\n",
    "# initialize the ancilla qubit in the |1> state\n",
    "deuCircuit.x(qr[1])\n",
    "\n",
    "# Apply barrier \n",
    "if barriers:\n",
    "    deuCircuit.barrier()\n",
    "\n",
    "# Apply Hadamard gates before querying the oracle\n",
    "deuCircuit.h(qr[0])    \n",
    "deuCircuit.h(qr[1])    \n",
    "\n",
    "# Apply barrier \n",
    "if barriers:\n",
    "    deuCircuit.barrier()\n",
    "\n",
    "#Apply quantum oracle\n",
    "# Build your gate with Operator and unitary function\n",
    "uf1 = Operator([ # cx\n",
    "    [1, 0, 0, 0],\n",
    "    [0, 0, 0, 1],\n",
    "    [0, 0, 1, 0],\n",
    "    [0, 1, 0, 0]])\n",
    "\n",
    "uf2 = Operator([\n",
    "    [0, 0, 1, 0],\n",
    "    [0, 1, 0, 0],\n",
    "    [1, 0, 0, 0],\n",
    "    [0, 0, 0, 1]])\n",
    "\n",
    "uf3 = Operator([ # I\n",
    "    [1, 0, 0, 0],\n",
    "    [0, 1, 0, 0],\n",
    "    [0, 0, 1, 0],\n",
    "    [0, 0, 0, 1]])\n",
    "\n",
    "uf4 = Operator([\n",
    "    [0, 0, 1, 0],\n",
    "    [0, 1, 0, 0],\n",
    "    [1, 0, 0, 0],\n",
    "    [0, 0, 0, 1]])\n",
    "\n",
    "\n",
    "# Query the oracle \n",
    "deuCircuit.unitary(uf1, [qr[0], qr[1]], label='Uf1')\n",
    "#deuCircuit.unitary(uf2, [qr[0], qr[1]], label='Uf2')\n",
    "#deuCircuit.unitary(uf3, [qr[0], qr[1]], label='Uf3')\n",
    "#deuCircuit.unitary(uf4, [qr[0], qr[1]], label='Uf4')\n",
    "\n",
    "# Apply barrier \n",
    "if barriers:\n",
    "    deuCircuit.barrier()\n",
    "\n",
    "# Apply Hadamard gates after querying the oracle\n",
    "deuCircuit.h(qr[0])    \n",
    " \n",
    "\n",
    "# Measure the input qubit\n",
    "deuCircuit.measure(qr[0], cr[0])\n",
    "\n",
    "deuCircuit.draw(output='mpl')"
   ]
  },
  {
   "cell_type": "markdown",
   "metadata": {},
   "source": [
    "## Experiment with Simulators"
   ]
  },
  {
   "cell_type": "code",
   "execution_count": 9,
   "metadata": {},
   "outputs": [
    {
     "name": "stdout",
     "output_type": "stream",
     "text": [
      "c0 = 1 (1024 shots)\n"
     ]
    },
    {
     "data": {
      "image/png": "[encoded data removed]",
      "text/plain": [
       "<Figure size 504x360 with 1 Axes>"
      ]
     },
     "execution_count": 9,
     "metadata": {},
     "output_type": "execute_result"
    }
   ],
   "source": [
    "# use local simulator\n",
    "backend = BasicAer.get_backend('qasm_simulator')\n",
    "shots = 1024\n",
    "results = execute(deuCircuit, backend=backend, shots=shots).result()\n",
    "answer = results.get_counts()\n",
    "\n",
    "# categorize answers to c0 = 0 and c0 = 1\n",
    "answer_c0 = {}\n",
    "for c1c0 in answer:\n",
    "    print('c0 = {} ({} shots)'.format(c1c0[1], answer[c1c0]))\n",
    "\n",
    "    if c1c0[1] in answer_c0:\n",
    "        answer_c0[c1c0[1]] += answer[c1c0]\n",
    "    else:\n",
    "        answer_c0[c1c0[1]] = answer[c1c0]\n",
    "\n",
    "plot_histogram(answer_c0)"
   ]
  },
  {
   "cell_type": "markdown",
   "metadata": {},
   "source": [
    "As we can see, the only measured value is $c_0=0$, indicating that $f(0)=f(1)$"
   ]
  },
  {
   "cell_type": "markdown",
   "metadata": {},
   "source": [
    "## Experiment with Real Devices"
   ]
  },
  {
   "cell_type": "code",
   "execution_count": 6,
   "metadata": {},
   "outputs": [
    {
     "name": "stdout",
     "output_type": "stream",
     "text": [
      "Least busy backend:  ibmq_manila\n"
     ]
    }
   ],
   "source": [
    "IBMQ.save_account(<mytoken>, overwrite=True)\n",
    "# Load our saved IBMQ accounts and get the least busy backend device that we are allowed to use\n",
    "IBMQ.load_account()\n",
    "#IBMQ.backends()\n",
    "provider=IBMQ.get_provider(group='open')\n",
    "backend_lb = least_busy(provider.backends(simulator=False, operational=True))\n",
    "print(\"Least busy backend: \", backend_lb)"
   ]
  },
  {
   "cell_type": "code",
   "execution_count": null,
   "metadata": {},
   "outputs": [
    {
     "name": "stdout",
     "output_type": "stream",
     "text": [
      "Job Status: job is queued (39)    "
     ]
    }
   ],
   "source": [
    "from qiskit.tools.monitor import job_monitor\n",
    "\n",
    "backend = backend_lb\n",
    "shots = 1024\n",
    "job_exp = execute(deuCircuit, backend=backend, shots=shots)\n",
    "\n",
    "job_monitor(job_exp, interval = 2)"
   ]
  },
  {
   "cell_type": "code",
   "execution_count": null,
   "metadata": {},
   "outputs": [],
   "source": [
    "results = job_exp.result()\n",
    "answer = results.get_counts(deuCircuit)\n",
    "\n",
    "# categorize answers to c0 = 0 and c0 = 1\n",
    "answer_c0 = {}\n",
    "for c1c0 in answer:\n",
    "    print('c0 = {} ({} shots)'.format(c1c0[1], answer[c1c0]))\n",
    "    if c1c0[1] in answer_c0:\n",
    "        answer_c0[c1c0[1]] += answer[c1c0]\n",
    "    else:\n",
    "        answer_c0[c1c0[1]] = answer[c1c0]\n",
    "\n",
    "# show answers\n",
    "print(answer_c0)\n",
    "plot_histogram(answer_c0)"
   ]
  }
 ],
 "metadata": {
  "kernelspec": {
   "display_name": "Python 3 (ipykernel)",
   "language": "python",
   "name": "python3"
  },
  "language_info": {
   "codemirror_mode": {
    "name": "ipython",
    "version": 3
   },
   "file_extension": ".py",
   "mimetype": "text/x-python",
   "name": "python",
   "nbconvert_exporter": "python",
   "pygments_lexer": "ipython3",
   "version": "3.10.6"
  }
 },
 "nbformat": 4,
 "nbformat_minor": 2
}
